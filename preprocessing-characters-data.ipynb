{
 "cells": [
  {
   "cell_type": "code",
   "execution_count": 1,
   "metadata": {
    "_cell_guid": "b1076dfc-b9ad-4769-8c92-a6c4dae69d19",
    "_uuid": "8f2839f25d086af736a60e9eeb907d3b93b6e0e5"
   },
   "outputs": [],
   "source": [
    "import numpy as np \n",
    "import pandas as pd \n",
    "import os\n",
    "\n",
    "\n",
    "INPUT_FILENAME=[]\n",
    "OUTPUT_CLASS=[]\n",
    "\n",
    "for dirname, _, filenames in os.walk('/kaggle/input/nist-characters-dataset-minimized/CHARACTERS/test_images'):\n",
    "    for filename in filenames:\n",
    "        INPUT_FILENAME.append(filename.split('.')[0])\n",
    "        OUTPUT_CLASS.append(dirname.split('/')[-1])\n",
    "\n",
    "TestData=pd.DataFrame({'filename':INPUT_FILENAME,'class':OUTPUT_CLASS})\n",
    "TestData.to_csv('test.csv')\n",
    "\n",
    "SampleData=pd.DataFrame({'filename':INPUT_FILENAME,'class':[0 for _ in range(len(OUTPUT_CLASS))]})\n",
    "SampleData.to_csv('sample_submission.csv')\n"
   ]
  },
  {
   "cell_type": "code",
   "execution_count": 2,
   "metadata": {
    "_cell_guid": "79c7e3d0-c299-4dcb-8224-4455121ee9b0",
    "_uuid": "d629ff2d2480ee46fbb7e2d37f6b5fab8052498a"
   },
   "outputs": [],
   "source": [
    "INPUT_FILENAME=[]\n",
    "OUTPUT_CLASS=[]\n",
    "\n",
    "for dirname, _, filenames in os.walk('/kaggle/input/nist-characters-dataset-minimized/CHARACTERS/train_images'):\n",
    "    for filename in filenames:\n",
    "        INPUT_FILENAME.append(filename.split('.')[0])\n",
    "        OUTPUT_CLASS.append(dirname.split('/')[-1])\n",
    "\n",
    "TrainData=pd.DataFrame({'filename':INPUT_FILENAME,'class':OUTPUT_CLASS})\n",
    "TrainData.to_csv('train.csv')"
   ]
  }
 ],
 "metadata": {
  "kernelspec": {
   "display_name": "Python 3",
   "language": "python",
   "name": "python3"
  },
  "language_info": {
   "codemirror_mode": {
    "name": "ipython",
    "version": 3
   },
   "file_extension": ".py",
   "mimetype": "text/x-python",
   "name": "python",
   "nbconvert_exporter": "python",
   "pygments_lexer": "ipython3",
   "version": "3.6.6"
  }
 },
 "nbformat": 4,
 "nbformat_minor": 4
}
